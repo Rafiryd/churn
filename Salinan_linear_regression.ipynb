{
  "cells": [
    {
      "cell_type": "markdown",
      "metadata": {
        "id": "view-in-github",
        "colab_type": "text"
      },
      "source": [
        "<a href=\"https://colab.research.google.com/github/Rafiryd/churn/blob/rafiryd/Salinan_linear_regression.ipynb\" target=\"_parent\"><img src=\"https://colab.research.google.com/assets/colab-badge.svg\" alt=\"Open In Colab\"/></a>"
      ]
    },
    {
      "cell_type": "markdown",
      "id": "31616191-c825-4c1b-9109-b8440c5e1e9a",
      "metadata": {
        "id": "31616191-c825-4c1b-9109-b8440c5e1e9a"
      },
      "source": [
        "# Linear Regression"
      ]
    },
    {
      "cell_type": "markdown",
      "id": "87c5b64b-6858-4bbf-8d73-9414654026d5",
      "metadata": {
        "id": "87c5b64b-6858-4bbf-8d73-9414654026d5"
      },
      "source": [
        "Implementasi Linear Regression"
      ]
    },
    {
      "cell_type": "markdown",
      "id": "dc994079-217a-428f-b15e-ed2736a2713f",
      "metadata": {
        "id": "dc994079-217a-428f-b15e-ed2736a2713f"
      },
      "source": [
        "### Importing Libraries"
      ]
    },
    {
      "cell_type": "code",
      "execution_count": 1,
      "id": "a0671246-129c-4a12-be27-a7ee411c3805",
      "metadata": {
        "id": "a0671246-129c-4a12-be27-a7ee411c3805"
      },
      "outputs": [],
      "source": [
        "import pandas as pd\n",
        "import numpy as np\n",
        "import matplotlib.pyplot as plt\n",
        "plt.style.use('fivethirtyeight')\n",
        "from sklearn.linear_model import LinearRegression\n",
        "from sklearn.model_selection import train_test_split\n",
        "from sklearn.metrics import r2_score\n",
        "import seaborn as sns"
      ]
    },
    {
      "cell_type": "markdown",
      "id": "99b002c6-c887-4bc8-8f3e-593b1e6e8d24",
      "metadata": {
        "id": "99b002c6-c887-4bc8-8f3e-593b1e6e8d24"
      },
      "source": [
        "## Simple Linear Regression"
      ]
    },
    {
      "cell_type": "markdown",
      "id": "dc1e0bb5-1a03-4e95-a647-a085bf671fe1",
      "metadata": {
        "id": "dc1e0bb5-1a03-4e95-a647-a085bf671fe1"
      },
      "source": [
        "### Membuat dataset"
      ]
    },
    {
      "cell_type": "code",
      "execution_count": 2,
      "id": "3b2d1d4a-e400-4751-9e49-1843378fdecf",
      "metadata": {
        "id": "3b2d1d4a-e400-4751-9e49-1843378fdecf"
      },
      "outputs": [],
      "source": [
        "df_simple = pd.read_csv('/content/Salinan advertising (2).csv',usecols=['TV','Sales'])"
      ]
    },
    {
      "cell_type": "code",
      "execution_count": 3,
      "id": "0f9a0bda-9f2a-4495-b29e-fe5048290e3a",
      "metadata": {
        "colab": {
          "base_uri": "https://localhost:8080/",
          "height": 206
        },
        "id": "0f9a0bda-9f2a-4495-b29e-fe5048290e3a",
        "outputId": "7fa15e73-70ab-48ab-c958-fc0150d11e0a"
      },
      "outputs": [
        {
          "output_type": "execute_result",
          "data": {
            "text/plain": [
              "      TV  Sales\n",
              "0  230.1   22.1\n",
              "1   44.5   10.4\n",
              "2   17.2   12.0\n",
              "3  151.5   16.5\n",
              "4  180.8   17.9"
            ],
            "text/html": [
              "\n",
              "  <div id=\"df-9404195b-61bd-4a75-a8a3-39f37ce86cd5\">\n",
              "    <div class=\"colab-df-container\">\n",
              "      <div>\n",
              "<style scoped>\n",
              "    .dataframe tbody tr th:only-of-type {\n",
              "        vertical-align: middle;\n",
              "    }\n",
              "\n",
              "    .dataframe tbody tr th {\n",
              "        vertical-align: top;\n",
              "    }\n",
              "\n",
              "    .dataframe thead th {\n",
              "        text-align: right;\n",
              "    }\n",
              "</style>\n",
              "<table border=\"1\" class=\"dataframe\">\n",
              "  <thead>\n",
              "    <tr style=\"text-align: right;\">\n",
              "      <th></th>\n",
              "      <th>TV</th>\n",
              "      <th>Sales</th>\n",
              "    </tr>\n",
              "  </thead>\n",
              "  <tbody>\n",
              "    <tr>\n",
              "      <th>0</th>\n",
              "      <td>230.1</td>\n",
              "      <td>22.1</td>\n",
              "    </tr>\n",
              "    <tr>\n",
              "      <th>1</th>\n",
              "      <td>44.5</td>\n",
              "      <td>10.4</td>\n",
              "    </tr>\n",
              "    <tr>\n",
              "      <th>2</th>\n",
              "      <td>17.2</td>\n",
              "      <td>12.0</td>\n",
              "    </tr>\n",
              "    <tr>\n",
              "      <th>3</th>\n",
              "      <td>151.5</td>\n",
              "      <td>16.5</td>\n",
              "    </tr>\n",
              "    <tr>\n",
              "      <th>4</th>\n",
              "      <td>180.8</td>\n",
              "      <td>17.9</td>\n",
              "    </tr>\n",
              "  </tbody>\n",
              "</table>\n",
              "</div>\n",
              "      <button class=\"colab-df-convert\" onclick=\"convertToInteractive('df-9404195b-61bd-4a75-a8a3-39f37ce86cd5')\"\n",
              "              title=\"Convert this dataframe to an interactive table.\"\n",
              "              style=\"display:none;\">\n",
              "        \n",
              "  <svg xmlns=\"http://www.w3.org/2000/svg\" height=\"24px\"viewBox=\"0 0 24 24\"\n",
              "       width=\"24px\">\n",
              "    <path d=\"M0 0h24v24H0V0z\" fill=\"none\"/>\n",
              "    <path d=\"M18.56 5.44l.94 2.06.94-2.06 2.06-.94-2.06-.94-.94-2.06-.94 2.06-2.06.94zm-11 1L8.5 8.5l.94-2.06 2.06-.94-2.06-.94L8.5 2.5l-.94 2.06-2.06.94zm10 10l.94 2.06.94-2.06 2.06-.94-2.06-.94-.94-2.06-.94 2.06-2.06.94z\"/><path d=\"M17.41 7.96l-1.37-1.37c-.4-.4-.92-.59-1.43-.59-.52 0-1.04.2-1.43.59L10.3 9.45l-7.72 7.72c-.78.78-.78 2.05 0 2.83L4 21.41c.39.39.9.59 1.41.59.51 0 1.02-.2 1.41-.59l7.78-7.78 2.81-2.81c.8-.78.8-2.07 0-2.86zM5.41 20L4 18.59l7.72-7.72 1.47 1.35L5.41 20z\"/>\n",
              "  </svg>\n",
              "      </button>\n",
              "      \n",
              "  <style>\n",
              "    .colab-df-container {\n",
              "      display:flex;\n",
              "      flex-wrap:wrap;\n",
              "      gap: 12px;\n",
              "    }\n",
              "\n",
              "    .colab-df-convert {\n",
              "      background-color: #E8F0FE;\n",
              "      border: none;\n",
              "      border-radius: 50%;\n",
              "      cursor: pointer;\n",
              "      display: none;\n",
              "      fill: #1967D2;\n",
              "      height: 32px;\n",
              "      padding: 0 0 0 0;\n",
              "      width: 32px;\n",
              "    }\n",
              "\n",
              "    .colab-df-convert:hover {\n",
              "      background-color: #E2EBFA;\n",
              "      box-shadow: 0px 1px 2px rgba(60, 64, 67, 0.3), 0px 1px 3px 1px rgba(60, 64, 67, 0.15);\n",
              "      fill: #174EA6;\n",
              "    }\n",
              "\n",
              "    [theme=dark] .colab-df-convert {\n",
              "      background-color: #3B4455;\n",
              "      fill: #D2E3FC;\n",
              "    }\n",
              "\n",
              "    [theme=dark] .colab-df-convert:hover {\n",
              "      background-color: #434B5C;\n",
              "      box-shadow: 0px 1px 3px 1px rgba(0, 0, 0, 0.15);\n",
              "      filter: drop-shadow(0px 1px 2px rgba(0, 0, 0, 0.3));\n",
              "      fill: #FFFFFF;\n",
              "    }\n",
              "  </style>\n",
              "\n",
              "      <script>\n",
              "        const buttonEl =\n",
              "          document.querySelector('#df-9404195b-61bd-4a75-a8a3-39f37ce86cd5 button.colab-df-convert');\n",
              "        buttonEl.style.display =\n",
              "          google.colab.kernel.accessAllowed ? 'block' : 'none';\n",
              "\n",
              "        async function convertToInteractive(key) {\n",
              "          const element = document.querySelector('#df-9404195b-61bd-4a75-a8a3-39f37ce86cd5');\n",
              "          const dataTable =\n",
              "            await google.colab.kernel.invokeFunction('convertToInteractive',\n",
              "                                                     [key], {});\n",
              "          if (!dataTable) return;\n",
              "\n",
              "          const docLinkHtml = 'Like what you see? Visit the ' +\n",
              "            '<a target=\"_blank\" href=https://colab.research.google.com/notebooks/data_table.ipynb>data table notebook</a>'\n",
              "            + ' to learn more about interactive tables.';\n",
              "          element.innerHTML = '';\n",
              "          dataTable['output_type'] = 'display_data';\n",
              "          await google.colab.output.renderOutput(dataTable, element);\n",
              "          const docLink = document.createElement('div');\n",
              "          docLink.innerHTML = docLinkHtml;\n",
              "          element.appendChild(docLink);\n",
              "        }\n",
              "      </script>\n",
              "    </div>\n",
              "  </div>\n",
              "  "
            ]
          },
          "metadata": {},
          "execution_count": 3
        }
      ],
      "source": [
        "df_simple.head()"
      ]
    },
    {
      "cell_type": "code",
      "source": [
        "scatter_plot(df_simple)"
      ],
      "metadata": {
        "id": "R_FsHzO5Ue30",
        "outputId": "732c3404-a0db-4178-8c87-04e5df539b3f",
        "colab": {
          "base_uri": "https://localhost:8080/",
          "height": 730
        }
      },
      "id": "R_FsHzO5Ue30",
      "execution_count": 9,
      "outputs": [
        {
          "output_type": "error",
          "ename": "AttributeError",
          "evalue": "ignored",
          "traceback": [
            "\u001b[0;31m---------------------------------------------------------------------------\u001b[0m",
            "\u001b[0;31mAttributeError\u001b[0m                            Traceback (most recent call last)",
            "\u001b[0;32m<ipython-input-9-e62b3e52f0fa>\u001b[0m in \u001b[0;36m<cell line: 1>\u001b[0;34m()\u001b[0m\n\u001b[0;32m----> 1\u001b[0;31m \u001b[0mscatter_plot\u001b[0m\u001b[0;34m(\u001b[0m\u001b[0mdf_simple\u001b[0m\u001b[0;34m)\u001b[0m\u001b[0;34m\u001b[0m\u001b[0;34m\u001b[0m\u001b[0m\n\u001b[0m",
            "\u001b[0;32m<ipython-input-5-390143c33ad4>\u001b[0m in \u001b[0;36mscatter_plot\u001b[0;34m(df)\u001b[0m\n\u001b[1;32m      7\u001b[0m       \u001b[0mplt\u001b[0m\u001b[0;34m.\u001b[0m\u001b[0mxlabel\u001b[0m\u001b[0;34m(\u001b[0m\u001b[0mcol\u001b[0m\u001b[0;34m)\u001b[0m\u001b[0;34m\u001b[0m\u001b[0;34m\u001b[0m\u001b[0m\n\u001b[1;32m      8\u001b[0m       \u001b[0mplt\u001b[0m\u001b[0;34m.\u001b[0m\u001b[0mylabel\u001b[0m\u001b[0;34m(\u001b[0m\u001b[0;34m'Sales'\u001b[0m\u001b[0;34m)\u001b[0m\u001b[0;34m\u001b[0m\u001b[0;34m\u001b[0m\u001b[0m\n\u001b[0;32m----> 9\u001b[0;31m       \u001b[0mplt\u001b[0m\u001b[0;34m.\u001b[0m\u001b[0mtittle\u001b[0m\u001b[0;34m(\u001b[0m\u001b[0;34mf'Scatter Plot : {col} vs. Sales'\u001b[0m\u001b[0;34m)\u001b[0m\u001b[0;34m\u001b[0m\u001b[0;34m\u001b[0m\u001b[0m\n\u001b[0m\u001b[1;32m     10\u001b[0m       \u001b[0mplt\u001b[0m\u001b[0;34m.\u001b[0m\u001b[0mshow\u001b[0m\u001b[0;34m(\u001b[0m\u001b[0;34m)\u001b[0m\u001b[0;34m\u001b[0m\u001b[0;34m\u001b[0m\u001b[0m\n",
            "\u001b[0;31mAttributeError\u001b[0m: module 'matplotlib.pyplot' has no attribute 'tittle'"
          ]
        },
        {
          "output_type": "display_data",
          "data": {
            "text/plain": [
              "<Figure size 640x480 with 1 Axes>"
            ],
            "image/png": "[encoded data removed]"
          },
          "metadata": {}
        }
      ]
    },
    {
      "cell_type": "code",
      "execution_count": 10,
      "id": "7502af57-8a18-42f1-9095-7b14069d2e1f",
      "metadata": {
        "id": "7502af57-8a18-42f1-9095-7b14069d2e1f"
      },
      "outputs": [],
      "source": [
        "def bar_plot(df):\n",
        "    num_cols = df.select_dtypes(include=['int64', 'float64']).columns\n",
        "\n",
        "    for col in num_cols:\n",
        "        if col != 'Sales':\n",
        "            plt.bar(df[col], df['Sales'])\n",
        "            plt.xlabel(col)\n",
        "            plt.ylabel('Sales')\n",
        "            plt.title(f'Scatter Plot: {col} vs. Sales')\n",
        "            plt.show()"
      ]
    },
    {
      "cell_type": "code",
      "source": [
        "def scatter_plot(df):\n",
        "  num_cols = df.select_dtypes(include=['int64','float64']).columns\n",
        "\n",
        "  for col in num_cols:\n",
        "    if col != 'Sales':\n",
        "      plt.scatter(df[col], df['Sales'])\n",
        "      plt.xlabel(col)\n",
        "      plt.ylabel('Sales')\n",
        "      plt.tittle(f'bar plot : {col} vs. Sales')\n",
        "      plt.show()"
      ],
      "metadata": {
        "id": "iZRRHKSgu1V9"
      },
      "id": "iZRRHKSgu1V9",
      "execution_count": 14,
      "outputs": []
    },
    {
      "cell_type": "code",
      "source": [
        "bar_plot(df_simple)"
      ],
      "metadata": {
        "id": "elPXtjErxyxl",
        "outputId": "7fa1e4d8-5da4-44f8-b272-5a2d5b314437",
        "colab": {
          "base_uri": "https://localhost:8080/",
          "height": 508
        }
      },
      "id": "elPXtjErxyxl",
      "execution_count": 15,
      "outputs": [
        {
          "output_type": "display_data",
          "data": {
            "text/plain": [
              "<Figure size 640x480 with 1 Axes>"
            ],
            "image/png": "[encoded data removed]"
          },
          "metadata": {}
        }
      ]
    },
    {
      "cell_type": "code",
      "execution_count": null,
      "id": "6db09709-2bde-4b47-b5fe-0bd1de19d503",
      "metadata": {
        "id": "6db09709-2bde-4b47-b5fe-0bd1de19d503"
      },
      "outputs": [],
      "source": [
        ")df_simple.describe()"
      ]
    },
    {
      "cell_type": "code",
      "execution_count": null,
      "id": "72386742-8298-47b2-b343-70155461e2d8",
      "metadata": {
        "id": "72386742-8298-47b2-b343-70155461e2d8"
      },
      "outputs": [],
      "source": [
        "df_simple.isnull().sum()"
      ]
    },
    {
      "cell_type": "code",
      "execution_count": null,
      "id": "1e353e3b-daa9-4fd0-b7b8-37facbc9cd60",
      "metadata": {
        "id": "1e353e3b-daa9-4fd0-b7b8-37facbc9cd60"
      },
      "outputs": [],
      "source": [
        "lr = LinearRegression()"
      ]
    },
    {
      "cell_type": "code",
      "execution_count": null,
      "id": "459d3658-0728-4eba-97af-07d15cd591ec",
      "metadata": {
        "id": "459d3658-0728-4eba-97af-07d15cd591ec"
      },
      "outputs": [],
      "source": [
        "X = df_simple[[\"TV\"]]\n",
        "y = df_simple[\"Sales\"]"
      ]
    },
    {
      "cell_type": "markdown",
      "id": "5df074d0-cd3a-4ee8-bbb6-7b88d4ac54c9",
      "metadata": {
        "id": "5df074d0-cd3a-4ee8-bbb6-7b88d4ac54c9"
      },
      "source": [
        "### Train Test Split"
      ]
    },
    {
      "cell_type": "code",
      "execution_count": null,
      "id": "ddbc3d77-e0c7-431e-b20e-97758d45d147",
      "metadata": {
        "id": "ddbc3d77-e0c7-431e-b20e-97758d45d147"
      },
      "outputs": [],
      "source": [
        "X_train, X_test, y_train, y_test = train_test_split(X, y, test_size=0.25, random_state=42)"
      ]
    },
    {
      "cell_type": "code",
      "execution_count": null,
      "id": "f7904ca5-de8d-4c14-924f-a2abdfe06607",
      "metadata": {
        "id": "f7904ca5-de8d-4c14-924f-a2abdfe06607"
      },
      "outputs": [],
      "source": [
        "lr.fit(X_train,y_train)"
      ]
    },
    {
      "cell_type": "code",
      "execution_count": null,
      "id": "53e9d4fa-c0b4-4dce-b3dc-991b58449a7e",
      "metadata": {
        "id": "53e9d4fa-c0b4-4dce-b3dc-991b58449a7e"
      },
      "outputs": [],
      "source": [
        "y_pred = lr.predict(X_test)"
      ]
    },
    {
      "cell_type": "code",
      "execution_count": null,
      "id": "e08a309f-5736-4e3f-98e9-74aea632c6ba",
      "metadata": {
        "id": "e08a309f-5736-4e3f-98e9-74aea632c6ba"
      },
      "outputs": [],
      "source": [
        "plt.scatter(X_test, y_test, color = \"red\")\n",
        "plt.plot(X_test, lr.predict(X_test), color = \"green\")\n",
        "plt.title(\"Sales vs TV spending \")\n",
        "plt.xlabel(\"Sales\")\n",
        "plt.ylabel(\"TV\")\n",
        "plt.xticks(rotation=90)\n",
        "plt.show()"
      ]
    },
    {
      "cell_type": "markdown",
      "id": "a2c45e3e-7d34-4c4c-ac36-72e9d2ee01a0",
      "metadata": {
        "id": "a2c45e3e-7d34-4c4c-ac36-72e9d2ee01a0"
      },
      "source": [
        "### R Squared Score"
      ]
    },
    {
      "cell_type": "code",
      "execution_count": null,
      "id": "f0a1ed5d-51ed-4610-ac58-0db2b1e204da",
      "metadata": {
        "id": "f0a1ed5d-51ed-4610-ac58-0db2b1e204da"
      },
      "outputs": [],
      "source": [
        "print(\"R2 Score is :\",round(r2_score(y_test,y_pred),3)*100,\"%\")"
      ]
    },
    {
      "cell_type": "markdown",
      "id": "06d0ce70-52cf-49be-a71d-14e7356a0d59",
      "metadata": {
        "id": "06d0ce70-52cf-49be-a71d-14e7356a0d59"
      },
      "source": [
        "#### *Simple Linear Regression Formula* : **y = b0 + b1 * x1**"
      ]
    },
    {
      "cell_type": "markdown",
      "id": "4766f267-61c2-48e9-bba6-283c9540c744",
      "metadata": {
        "id": "4766f267-61c2-48e9-bba6-283c9540c744"
      },
      "source": [
        "model regression linear sebenarnya merupakan rumus linear dalam bentuk y = b0 + b1*x1; dimana y merupakan keluaran atau outcome, dan x1 merupakan variable independen (predictor), juga b1 adalah kemiringan garis; juga dikenal sebagai koefisien regresi dan b0 adalah intersep yang diberi label konstan."
      ]
    },
    {
      "cell_type": "markdown",
      "id": "b671ab51-cdad-4335-ac5f-fc93ebd9bfa8",
      "metadata": {
        "id": "b671ab51-cdad-4335-ac5f-fc93ebd9bfa8"
      },
      "source": [
        "#### Finding Intercept and Coefficient"
      ]
    },
    {
      "cell_type": "code",
      "execution_count": null,
      "id": "0ef3e3e8-c79e-4405-bf83-a92a9e842128",
      "metadata": {
        "id": "0ef3e3e8-c79e-4405-bf83-a92a9e842128"
      },
      "outputs": [],
      "source": [
        "lr.intercept_"
      ]
    },
    {
      "cell_type": "code",
      "execution_count": null,
      "id": "910c518d-afc8-4f15-b4e0-b9f6f5994fb3",
      "metadata": {
        "id": "910c518d-afc8-4f15-b4e0-b9f6f5994fb3"
      },
      "outputs": [],
      "source": [
        "lr.coef_[0]"
      ]
    },
    {
      "cell_type": "markdown",
      "id": "ff544618-9c96-4e0a-8c65-5f6b12c74f34",
      "metadata": {
        "id": "ff544618-9c96-4e0a-8c65-5f6b12c74f34"
      },
      "source": [
        "- Let's find out sales number if we spend **300 $** on TV advertising"
      ]
    },
    {
      "cell_type": "markdown",
      "id": "b5a5dd71-f4b7-49a3-a836-73886618a049",
      "metadata": {
        "id": "b5a5dd71-f4b7-49a3-a836-73886618a049"
      },
      "source": [
        "**by using our Simple Linear Regression**"
      ]
    },
    {
      "cell_type": "code",
      "execution_count": null,
      "id": "56ecf7db-9087-4ae4-8247-ddfa1123680e",
      "metadata": {
        "id": "56ecf7db-9087-4ae4-8247-ddfa1123680e"
      },
      "outputs": [],
      "source": [
        "print(\"Predicted Sales :\",round(lr.predict([[300]])[0],2))"
      ]
    },
    {
      "cell_type": "markdown",
      "id": "d1e5d5de-e083-4c29-97ad-0493893ac7ea",
      "metadata": {
        "id": "d1e5d5de-e083-4c29-97ad-0493893ac7ea"
      },
      "source": [
        "**by using ıntercept and coefficient**"
      ]
    },
    {
      "cell_type": "markdown",
      "id": "eb5dbc6f-c88c-4fdc-8e1a-504976160cbd",
      "metadata": {
        "id": "eb5dbc6f-c88c-4fdc-8e1a-504976160cbd"
      },
      "source": [
        "Recall the equation is y = b_0 + b_1 * x1"
      ]
    },
    {
      "cell_type": "markdown",
      "id": "8126620c-1137-4454-9f3d-734744e7353c",
      "metadata": {
        "id": "8126620c-1137-4454-9f3d-734744e7353c"
      },
      "source": [
        "Let's put each value into the equationm"
      ]
    },
    {
      "cell_type": "code",
      "execution_count": null,
      "id": "9c4b454b-d758-4e2c-ad64-f57ab4fe0d31",
      "metadata": {
        "id": "9c4b454b-d758-4e2c-ad64-f57ab4fe0d31"
      },
      "outputs": [],
      "source": [
        "y = lr.intercept_ + lr.coef_* 300"
      ]
    },
    {
      "cell_type": "code",
      "execution_count": null,
      "id": "0dee3ef7-f0b6-4733-8c86-f6a0caea4229",
      "metadata": {
        "id": "0dee3ef7-f0b6-4733-8c86-f6a0caea4229"
      },
      "outputs": [],
      "source": [
        "print(\"Predicted Sales :\",round(y[0],2))"
      ]
    },
    {
      "cell_type": "markdown",
      "id": "279364e9-4535-4335-837b-f11d3c6d72db",
      "metadata": {
        "id": "279364e9-4535-4335-837b-f11d3c6d72db"
      },
      "source": [
        "- We see the same value as you can see above . Linear regression does the same job for each observation."
      ]
    },
    {
      "cell_type": "markdown",
      "id": "874c8fb1-afd3-4d45-9d2f-eb98d029e5c6",
      "metadata": {
        "id": "874c8fb1-afd3-4d45-9d2f-eb98d029e5c6"
      },
      "source": [
        "## Multiple Linear Regression"
      ]
    },
    {
      "cell_type": "code",
      "execution_count": null,
      "id": "e16b849a-1217-440e-8eb6-bcde6bd015cf",
      "metadata": {
        "id": "e16b849a-1217-440e-8eb6-bcde6bd015cf"
      },
      "outputs": [],
      "source": [
        "df_multiple = pd.read_csv('advertising.csv')"
      ]
    },
    {
      "cell_type": "code",
      "execution_count": null,
      "id": "b1117ec5-0676-48df-8a74-7f24e70b01ee",
      "metadata": {
        "id": "b1117ec5-0676-48df-8a74-7f24e70b01ee"
      },
      "outputs": [],
      "source": [
        "df_multiple.head()"
      ]
    },
    {
      "cell_type": "code",
      "execution_count": null,
      "id": "5e593e4c-a325-4ef0-9753-399414534ca8",
      "metadata": {
        "id": "5e593e4c-a325-4ef0-9753-399414534ca8"
      },
      "outputs": [],
      "source": [
        "df_multiple.describe()"
      ]
    },
    {
      "cell_type": "markdown",
      "id": "2d50cb82-e2e1-4c76-93e9-af054c2b0493",
      "metadata": {
        "id": "2d50cb82-e2e1-4c76-93e9-af054c2b0493"
      },
      "source": [
        "### Missing values"
      ]
    },
    {
      "cell_type": "code",
      "execution_count": null,
      "id": "d983c620-5f8f-41d2-93cc-4537bd655cb7",
      "metadata": {
        "id": "d983c620-5f8f-41d2-93cc-4537bd655cb7"
      },
      "outputs": [],
      "source": [
        "df_multiple.isnull().sum()"
      ]
    },
    {
      "cell_type": "code",
      "execution_count": null,
      "id": "8bd9cea9-f332-4904-8127-44c836350aaf",
      "metadata": {
        "id": "8bd9cea9-f332-4904-8127-44c836350aaf"
      },
      "outputs": [],
      "source": [
        "X = df_multiple[[\"TV\",\"Radio\",\"Newspaper\"]]\n",
        "y = df_multiple[\"Sales\"]"
      ]
    },
    {
      "cell_type": "code",
      "execution_count": null,
      "id": "de1b38a7-68c2-4f76-8474-4b23ab8a5bdd",
      "metadata": {
        "id": "de1b38a7-68c2-4f76-8474-4b23ab8a5bdd"
      },
      "outputs": [],
      "source": [
        "X_train, X_test, y_train, y_test = train_test_split(X, y, test_size=0.25, random_state=42)"
      ]
    },
    {
      "cell_type": "code",
      "execution_count": null,
      "id": "9fed873b-886b-4dcb-a12b-ca71a76044b4",
      "metadata": {
        "id": "9fed873b-886b-4dcb-a12b-ca71a76044b4"
      },
      "outputs": [],
      "source": [
        "lr = LinearRegression()"
      ]
    },
    {
      "cell_type": "code",
      "execution_count": null,
      "id": "634a67d7-eca2-4b1a-b634-e5b903c40697",
      "metadata": {
        "id": "634a67d7-eca2-4b1a-b634-e5b903c40697"
      },
      "outputs": [],
      "source": [
        "lr.fit(X_train,y_train)"
      ]
    },
    {
      "cell_type": "markdown",
      "id": "b879901f-4c8f-4a03-9861-1ec2d3da4211",
      "metadata": {
        "id": "b879901f-4c8f-4a03-9861-1ec2d3da4211"
      },
      "source": [
        "### Interpretasi Hasil dengan Adjusted R Squared"
      ]
    },
    {
      "cell_type": "markdown",
      "id": "fc80af43-ac6e-4460-84a2-dbe656e3494e",
      "metadata": {
        "id": "fc80af43-ac6e-4460-84a2-dbe656e3494e"
      },
      "source": [
        "- Kita sudah tahu bagaimana R Squared dapat membantu kita dalam Evaluasi Model. Namun, ada satu kelemahan utama menggunakan R Squared. Nilai R Squared tidak pernah berkurang. Jika Anda bertanya-tanya mengapa perlu dikurangi karena hanya akan menghasilkan model yang buruk, menambahkan variabel independen baru akan menghasilkan peningkatan nilai R Squared. Ini adalah aliran utama karena R Squared akan menyarankan bahwa menambahkan variabel baru terlepas dari apakah mereka benar-benar signifikan atau tidak, akan meningkatkan nilainya."
      ]
    },
    {
      "cell_type": "code",
      "execution_count": null,
      "id": "642f9426-146c-4836-8d08-2f3f271d076f",
      "metadata": {
        "id": "642f9426-146c-4836-8d08-2f3f271d076f"
      },
      "outputs": [],
      "source": [
        "y_pred = lr.predict(X_test)"
      ]
    },
    {
      "cell_type": "code",
      "execution_count": null,
      "id": "262d95e8-809a-4ec5-942b-d9b859b3a88f",
      "metadata": {
        "id": "262d95e8-809a-4ec5-942b-d9b859b3a88f"
      },
      "outputs": [],
      "source": [
        "r_squared = r2_score(y_test,y_pred)"
      ]
    },
    {
      "cell_type": "code",
      "execution_count": null,
      "id": "5cabde16-0806-4ab5-ae3b-f26280f39201",
      "metadata": {
        "id": "5cabde16-0806-4ab5-ae3b-f26280f39201"
      },
      "outputs": [],
      "source": [
        "adjusted_r_squared = 1 - (1-r_squared)*(len(y)-1)/(len(y)-X.shape[1]-1)"
      ]
    },
    {
      "cell_type": "code",
      "execution_count": null,
      "id": "f0af650f-1780-4da9-b27a-32980470a1ef",
      "metadata": {
        "id": "f0af650f-1780-4da9-b27a-32980470a1ef"
      },
      "outputs": [],
      "source": [
        "print('Adjusted R Squared: %',round(adjusted_r_squared*100,2), 'R Squared: %',round(r_squared*100,2))"
      ]
    },
    {
      "cell_type": "markdown",
      "id": "c81708fc-df9a-4efb-a288-b22164f325b8",
      "metadata": {
        "id": "c81708fc-df9a-4efb-a288-b22164f325b8"
      },
      "source": [
        "#### *Rumus Multiple Linear Regression* : **y = b0 + b1 * x1  + b2 * x2  + b3 * x3**"
      ]
    },
    {
      "cell_type": "code",
      "execution_count": null,
      "id": "307121cf-e6c0-4e8a-b5c8-d909c98ed5bb",
      "metadata": {
        "id": "307121cf-e6c0-4e8a-b5c8-d909c98ed5bb"
      },
      "outputs": [],
      "source": [
        "print(\"Intercept is \",lr.intercept_,\"and Coefficients are\", lr.coef_)"
      ]
    },
    {
      "cell_type": "code",
      "execution_count": null,
      "id": "1e77e514-f585-4727-acc3-650583093774",
      "metadata": {
        "id": "1e77e514-f585-4727-acc3-650583093774"
      },
      "outputs": [],
      "source": [
        "lr.coef_"
      ]
    },
    {
      "cell_type": "markdown",
      "id": "fbb00053-f24e-44e7-8663-de6202b438a2",
      "metadata": {
        "id": "fbb00053-f24e-44e7-8663-de6202b438a2"
      },
      "source": [
        "- Koefisien TV : **0.05444578**\n",
        "- Koefisien Radio : **0.10700123**\n",
        "- Koefisien Newspaper : **0.00033566**"
      ]
    },
    {
      "cell_type": "markdown",
      "id": "db0fde35-d411-44f4-9274-36a14220d17b",
      "metadata": {
        "id": "db0fde35-d411-44f4-9274-36a14220d17b"
      },
      "source": [
        "#### Coba kita cari tahu berapa unit penjualan yang bsa kita peroleh dari pengeluaran dibawah ini\n",
        "- 200 Dollars untuk Periklanan TV\n",
        "- 50  Dollars untuk Radio\n",
        "- 20  Dollars untuk Newspaper"
      ]
    },
    {
      "cell_type": "markdown",
      "id": "130e8835-2e4d-4ab3-abd0-fb132fc917de",
      "metadata": {
        "id": "130e8835-2e4d-4ab3-abd0-fb132fc917de"
      },
      "source": [
        "**Menggunakan Linear Regression kita**"
      ]
    },
    {
      "cell_type": "code",
      "execution_count": null,
      "id": "72ababec-43e5-46b9-875c-bef0229be2a1",
      "metadata": {
        "id": "72ababec-43e5-46b9-875c-bef0229be2a1"
      },
      "outputs": [],
      "source": [
        "round(lr.predict([[200,50,20]])[0],2)"
      ]
    },
    {
      "cell_type": "markdown",
      "id": "a6bde7ab-f3c8-4479-9e41-f455f1f5fb71",
      "metadata": {
        "id": "a6bde7ab-f3c8-4479-9e41-f455f1f5fb71"
      },
      "source": [
        "**Menggunakan coefficient dan intercept LR**"
      ]
    },
    {
      "cell_type": "code",
      "execution_count": null,
      "id": "60558c34-2c23-4592-949f-b867c5cfcb23",
      "metadata": {
        "id": "60558c34-2c23-4592-949f-b867c5cfcb23"
      },
      "outputs": [],
      "source": [
        "y = lr.intercept_ + lr.coef_[0] * 200 + lr.coef_[1] * 50 + lr.coef_[2] * 20"
      ]
    },
    {
      "cell_type": "code",
      "execution_count": null,
      "id": "2835c78a-cc68-4587-8655-725e9cf1cc49",
      "metadata": {
        "id": "2835c78a-cc68-4587-8655-725e9cf1cc49"
      },
      "outputs": [],
      "source": [
        "round(y,2)"
      ]
    },
    {
      "cell_type": "markdown",
      "source": [
        "#Linear Regression from scratch"
      ],
      "metadata": {
        "id": "WQYWbqYV3nuh"
      },
      "id": "WQYWbqYV3nuh"
    },
    {
      "cell_type": "code",
      "source": [
        "# Importing libraries\n",
        "\n",
        "import numpy as np\n",
        "\n",
        "import pandas as pd\n",
        "\n",
        "from sklearn.model_selection import train_test_split\n",
        "\n",
        "import matplotlib.pyplot as plt\n",
        "\n",
        "# Linear Regression\n",
        "\n",
        "class LinearRegression() :\n",
        "\n",
        "\tdef __init__( self, learning_rate, iterations ) :\n",
        "\n",
        "\t\tself.learning_rate = learning_rate\n",
        "\n",
        "\t\tself.iterations = iterations\n",
        "\n",
        "\t# Function for model training\n",
        "\n",
        "\tdef fit( self, X, Y ) :\n",
        "\n",
        "\t\t# no_of_training_examples, no_of_features\n",
        "\n",
        "\t\tself.m, self.n = X.shape\n",
        "\n",
        "\t\t# weight initialization\n",
        "\n",
        "\t\tself.W = np.zeros( self.n )\n",
        "\n",
        "\t\tself.b = 0\n",
        "\n",
        "\t\tself.X = X\n",
        "\n",
        "\t\tself.Y = Y\n",
        "\n",
        "\n",
        "\t\t# gradient descent learning\n",
        "\n",
        "\t\tfor i in range( self.iterations ) :\n",
        "\n",
        "\t\t\tself.update_weights()\n",
        "\n",
        "\t\treturn self\n",
        "\n",
        "\t# Helper function to update weights in gradient descent\n",
        "\n",
        "\tdef update_weights( self ) :\n",
        "\n",
        "\t\tY_pred = self.predict( self.X )\n",
        "\n",
        "\t\t# calculate gradients\n",
        "\n",
        "\t\tdW = - ( 2 * ( self.X.T ).dot( self.Y - Y_pred ) ) / self.m\n",
        "\n",
        "\t\tdb = - 2 * np.sum( self.Y - Y_pred ) / self.m\n",
        "\n",
        "\t\t# update weights\n",
        "\n",
        "\t\tself.W = self.W - self.learning_rate * dW\n",
        "\n",
        "\t\tself.b = self.b - self.learning_rate * db\n",
        "\n",
        "\t\treturn self\n",
        "\n",
        "\t# Hypothetical function h( x )\n",
        "\n",
        "\tdef predict( self, X ) :\n",
        "\n",
        "\t\treturn X.dot( self.W ) + self.b"
      ],
      "metadata": {
        "id": "KEdZ4eiw24SO"
      },
      "id": "KEdZ4eiw24SO",
      "execution_count": null,
      "outputs": []
    },
    {
      "cell_type": "markdown",
      "id": "2162e402-3c66-4e2b-9d57-d489bd2f7fe4",
      "metadata": {
        "id": "2162e402-3c66-4e2b-9d57-d489bd2f7fe4"
      },
      "source": [
        "# Thank you ###"
      ]
    }
  ],
  "metadata": {
    "kernelspec": {
      "display_name": "Python 3",
      "language": "python",
      "name": "python3"
    },
    "language_info": {
      "codemirror_mode": {
        "name": "ipython",
        "version": 3
      },
      "file_extension": ".py",
      "mimetype": "text/x-python",
      "name": "python",
      "nbconvert_exporter": "python",
      "pygments_lexer": "ipython3",
      "version": "3.8.8"
    },
    "colab": {
      "provenance": [],
      "collapsed_sections": [
        "b671ab51-cdad-4335-ac5f-fc93ebd9bfa8",
        "WQYWbqYV3nuh"
      ],
      "include_colab_link": true
    }
  },
  "nbformat": 4,
  "nbformat_minor": 5
}